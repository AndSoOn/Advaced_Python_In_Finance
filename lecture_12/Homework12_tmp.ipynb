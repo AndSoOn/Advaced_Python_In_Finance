{
 "metadata": {
  "name": "",
  "signature": "sha256:caf48825acd02506c4d93263f0862c2819ec55caf15dd4c0ac6620f81091e51a"
 },
 "nbformat": 3,
 "nbformat_minor": 0,
 "worksheets": [
  {
   "cells": [
    {
     "cell_type": "markdown",
     "metadata": {},
     "source": [
      "# Homework Set 12"
     ]
    },
    {
     "cell_type": "code",
     "collapsed": false,
     "input": [
      "%pylab inline"
     ],
     "language": "python",
     "metadata": {},
     "outputs": [
      {
       "output_type": "stream",
       "stream": "stdout",
       "text": [
        "Populating the interactive namespace from numpy and matplotlib\n"
       ]
      }
     ],
     "prompt_number": 2
    },
    {
     "cell_type": "markdown",
     "metadata": {},
     "source": [
      "## Problem 1\n",
      "\n",
      "* Derive the CFL condition for the Crank-Nicholson method for the Black-Scholes PDE, assuming $r=0$.\n",
      "\n"
     ]
    },
    {
     "cell_type": "markdown",
     "metadata": {},
     "source": [
      "## Problem 2\n",
      "\n",
      "* Implement the FDM for Black-Scholes PDE using the Crank-Nicolson Scheme and test your code using the same example in Lecture 13 for both the vanilla European Call and the Up-and-out Barrier Call.\n",
      "\n"
     ]
    }
   ],
   "metadata": {}
  }
 ]
}