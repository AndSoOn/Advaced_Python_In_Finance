{
 "cells": [
  {
   "cell_type": "markdown",
   "metadata": {},
   "source": [
    "# Homework Set 4"
   ]
  },
  {
   "cell_type": "code",
   "execution_count": 1,
   "metadata": {
    "collapsed": false
   },
   "outputs": [
    {
     "name": "stdout",
     "output_type": "stream",
     "text": [
      "Populating the interactive namespace from numpy and matplotlib\n"
     ]
    },
    {
     "name": "stderr",
     "output_type": "stream",
     "text": [
      "Vendor:  Continuum Analytics, Inc.\n",
      "Package: mkl\n",
      "Message: trial mode expires in 29 days\n"
     ]
    }
   ],
   "source": [
    "%pylab inline \n",
    "import pandas as pd\n",
    "import numpy as np\n",
    "import fmt\n",
    "from tqdm import *\n",
    "from numpy.random import randn\n",
    "import matplotlib.pyplot as plt\n",
    "import matplotlib\n",
    "matplotlib.style.use('ggplot')\n",
    "import time\n",
    "#import inst, fmt"
   ]
  },
  {
   "cell_type": "markdown",
   "metadata": {},
   "source": [
    "## Problem 1: \n",
    "\n",
    "Implement the thomas algorithm for solving tri-diagonal linear systems:\n",
    "\n",
    "Do your own reading and research on <a href=http://en.wikipedia.org/wiki/Tridiagonal_matrix_algorithm>Thomas algorithm</a>  and implement and test it in python."
   ]
  },
  {
   "cell_type": "markdown",
   "metadata": {},
   "source": [
    "## Solution:\n",
    "The implementation of the Thomas algorithm is as follows, the performance improvement is impressing."
   ]
  },
  {
   "cell_type": "code",
   "execution_count": 2,
   "metadata": {
    "collapsed": true
   },
   "outputs": [],
   "source": [
    "import copy\n",
    "def Thomas(A, d):\n",
    "    a = np.insert(copy.deepcopy(A[1:, :].diagonal()), 0, 0.)\n",
    "    b = copy.deepcopy(A.diagonal())\n",
    "    c = np.append(copy.deepcopy(A[:, 1:].diagonal()), 0.)\n",
    "    d = copy.deepcopy(d)\n",
    "    for i in xrange(1, len(A)):\n",
    "        ai = a[i] / b[i-1]\n",
    "        b[i] -= ai * c[i-1]\n",
    "        d[i] -= ai * d[i-1]\n",
    "    a[-1] = d[-1] / b[-1]\n",
    "    for j in xrange(len(A)-2, -1, -1):\n",
    "        a[j] = (d[j] - c[j] * a[j+1]) / b[j]\n",
    "    return a"
   ]
  },
  {
   "cell_type": "code",
   "execution_count": 3,
   "metadata": {
    "collapsed": false
   },
   "outputs": [
    {
     "name": "stderr",
     "output_type": "stream",
     "text": [
      "                                               "
     ]
    },
    {
     "name": "stdout",
     "output_type": "stream",
     "text": [
      "Correctness test passed!\n"
     ]
    },
    {
     "name": "stderr",
     "output_type": "stream",
     "text": [
      "\r"
     ]
    },
    {
     "data": {
      "image/png": "[encoded data removed]",
      "text/plain": [
       "<matplotlib.figure.Figure at 0x10cb817d0>"
      ]
     },
     "metadata": {},
     "output_type": "display_data"
    }
   ],
   "source": [
    "def correctness_test(lst):\n",
    "    dim = np.arange(10, 2000, 50)\n",
    "    for i in tqdm(dim):\n",
    "        A = np.zeros((i, i))\n",
    "        m, l, r = randn(i), randn(i-1), randn(i-1)\n",
    "        np.fill_diagonal(A, m)\n",
    "        np.fill_diagonal(A[:,1:], l)\n",
    "        np.fill_diagonal(A[1:,:], r)\n",
    "        d = randn(i)\n",
    "        start1 = time.time()\n",
    "        res1 = Thomas(A, d)\n",
    "        end1 = time.time()\n",
    "        start2 = time.time()\n",
    "        res2 = np.linalg.solve(A, d)\n",
    "        end2 = time.time()\n",
    "        ratio = (end1 - start1) / (end2 - start2)\n",
    "        lst.append(ratio)\n",
    "        if not np.allclose(res1, res2):\n",
    "            print \"Different result detected, check your code...\"\n",
    "            return\n",
    "    print \"Correctness test passed!\"\n",
    "    return lst\n",
    "\n",
    "ratio_list = []\n",
    "correctness_test(ratio_list)\n",
    "plt.figure(1, figsize=(10,4))\n",
    "dim = np.arange(10, 2000, 50)\n",
    "plt.plot(dim, ratio_list, '->')\n",
    "plt.title('Performance Ratio')\n",
    "plt.xlabel(\"Dimension\")\n",
    "plt.grid(True)\n",
    "plt.show()"
   ]
  },
  {
   "cell_type": "markdown",
   "metadata": {},
   "source": [
    "## Problem 2\n",
    "\n",
    "Given the following benchmark swap quotes for USD, suppose all swap coupons are paid semi-annually:"
   ]
  },
  {
   "cell_type": "code",
   "execution_count": 4,
   "metadata": {
    "collapsed": false
   },
   "outputs": [
    {
     "data": {
      "text/html": [
       "<center><font size=2><table border=\"1\" class=\"dataframe\">\n",
       "  <thead>\n",
       "    <tr style=\"text-align: right;\">\n",
       "      <th></th>\n",
       "      <th>1Y</th>\n",
       "      <th>2Y</th>\n",
       "      <th>3Y</th>\n",
       "      <th>5Y</th>\n",
       "      <th>7Y</th>\n",
       "      <th>10Y</th>\n",
       "      <th>12Y</th>\n",
       "      <th>15Y</th>\n",
       "      <th>20Y</th>\n",
       "      <th>25Y</th>\n",
       "    </tr>\n",
       "  </thead>\n",
       "  <tbody>\n",
       "    <tr>\n",
       "      <th>Par Spread (%)</th>\n",
       "      <td>4.2</td>\n",
       "      <td>4.3</td>\n",
       "      <td>4.7</td>\n",
       "      <td>5.4</td>\n",
       "      <td>5.7</td>\n",
       "      <td>6.0</td>\n",
       "      <td>6.1</td>\n",
       "      <td>5.9</td>\n",
       "      <td>5.6</td>\n",
       "      <td>5.5</td>\n",
       "    </tr>\n",
       "  </tbody>\n",
       "</table></font></center>"
      ],
      "text/plain": [
       "<IPython.core.display.HTML object>"
      ]
     },
     "metadata": {},
     "output_type": "display_data"
    }
   ],
   "source": [
    "mats = np.array([1, 2, 3, 5, 7, 10, 12, 15, 20, 25])*1.\n",
    "par = np.array([.042, .043, .047, .054, .057, .06, .061, .059, .056, .0555])\n",
    "\n",
    "df_swap = pd.DataFrame(np.array([par]).T*100, columns=[\"Par Spread (%)\"], \n",
    "                       index=map(lambda m: '%dY' % m, mats))\n",
    "fmt.displayDF(df_swap.T, 2, 2)"
   ]
  },
  {
   "cell_type": "markdown",
   "metadata": {},
   "source": [
    "1. Explain what is the purpose of the +1e-6 in the first line of the priceSwap function\n",
    "2. Use the market data above to boostrap the IR curve by interpolating the cumulative yield $y(t) = -\\log(b(t))$ with tension spline, where $b(t)$ is the discount factor (i.e., the price of risk free zero coupon bonds). After bootstraping the curve, re-price the benchmark instruments using the bootstrapped curve, and compute the L-2 norm of the absolute pricing errors. Show how the pricing error of the bootstraped curve depend on the tension parameter $\\lambda$.\n",
    "3. Using the iteration technique to reduce the L-2 norm of the error below 1bps, how many iteration is needed for the error to go below 1bps?\n",
    "4. From the curve built in the previous step, compute both the $y(t)$ and the instantaneous forward rate $f(t) = -\\frac{1}{b(t)}\\frac{d b(t)}{d t} = \\frac{d y(t)}{dt}$, and show how their shapes change with the tension parameter $\\lambda$. In addition, compare the changes in the instantaneous forward rates with 1bps change in the 5Y par swap rate. You can use the deriv() method in the Tension spline class. \n",
    "6. Repeat the previous step, but directly interpolating the forward rates $f(t)$, and comment on whether it is suitable in practice.\n",
    "5. [extra credit] Build the curve by interpolating the zero rate with tension spline instead, i.e, $r(t) = \\frac{y(t)}{t}$, compare how the forward rates shape and perturbations differ from those obtained in step 4, and comment on the pro and cons between interpolating $r(t)$ and $y(t)$.\n",
    "7. [extra credit] write your own bootstrap function instead of calling those provided by the class library\n",
    "\n",
    "Hint: \n",
    "* write your code in a modular and reusable way; you can re-use the code provided as part of the class lecture, but you get extra credit if you can write your own bootstraping. The source code of the inst package is hidden from you, but you can figure out how to use them by reading their docstring with help(), please use the python codes in the lecture slides as examples.\n",
    "* be careful with the choice of boundary for the root search, allow negative rates often helps stablizing the bootstraping, even though it does not make economic sense\n",
    "* in step 5, you may have to mix the old and new results to stablize the iteration, (e.g., use mixf=0.5 in the inst.iterboot function, or your own)"
   ]
  },
  {
   "cell_type": "markdown",
   "metadata": {},
   "source": [
    "## Solution:\n",
    "#### 1.\n",
    "Since np.arange can take floating increment, +1e-6 here is to guarantee the last value of the array can be achieved. Otherwise the error resulted by floating point may lead to the imprecise of the array shape. Example:"
   ]
  },
  {
   "cell_type": "code",
   "execution_count": 6,
   "metadata": {
    "collapsed": false
   },
   "outputs": [
    {
     "name": "stdout",
     "output_type": "stream",
     "text": [
      "249 250\n"
     ]
    }
   ],
   "source": [
    "a = np.arange(0.1, 25, 0.1)\n",
    "b = np.arange(0.1, 25 + 1e-6, 0.1)\n",
    "print len(a), len(b)"
   ]
  },
  {
   "cell_type": "markdown",
   "metadata": {},
   "source": [
    "#### 2.\n",
    "Use the market data above to boostrap the IR curve by interpolating the cumulative yield $y(t) = -\\log(b(t))$ with tension spline, where $b(t)$ is the discount factor (i.e., the price of risk free zero coupon bonds). After bootstraping the curve, re-price the benchmark instruments using the bootstrapped curve, and compute the L-2 norm of the absolute pricing errors. Show how the pricing error of the bootstraped curve depend on the tension parameter $\\lambda$.\n",
    "\n",
    "Hint: \n",
    "* write your code in a modular and reusable way; you can re-use the code provided as part of the class lecture, but you get extra credit if you can write your own bootstraping. The source code of the inst package is hidden from you, but you can figure out how to use them by reading their docstring with help(), please use the python codes in the lecture slides as examples.\n",
    "* be careful with the choice of boundary for the root search, allow negative rates often helps stablizing the bootstraping, even though it does not make economic sense"
   ]
  },
  {
   "cell_type": "code",
   "execution_count": 90,
   "metadata": {
    "collapsed": true
   },
   "outputs": [],
   "source": [
    "import inst\n",
    "import lin\n",
    "import pandas as pd\n",
    "from swap import Swap, priceSwap\n",
    "\n",
    "def y2pv(swap, curve) :\n",
    "    discf = lambda ts: np.exp(-curve(ts))\n",
    "    return priceSwap(swap, discf)\n",
    "def bootstrap(bms, pfunc, x0, lbds, bds, its):\n",
    "    error = []\n",
    "    for i in lbds:  \n",
    "        n_c, err = inst.iterboot(bms, pfunc, x0, i, bds, its)\n",
    "        error += [err[0]]\n",
    "    return error\n",
    "\n",
    "mats = np.array([1, 2, 3, 5, 7, 10, 12, 15, 20, 25])*1.\n",
    "par = np.array([.042, .043, .047, .054, .057, .06, .061, .059, .056, .0555])\n",
    "bm_swaps = {Swap(m, c, 2) : 0 for m, c in zip (mats, par)}\n",
    "lbds = [0, 2, 10, 50]\n",
    "curve_tags = ['%d Y' % l for l in mats]"
   ]
  },
  {
   "cell_type": "code",
   "execution_count": 93,
   "metadata": {
    "collapsed": false
   },
   "outputs": [
    {
     "data": {
      "text/plain": [
       "<matplotlib.lines.Line2D at 0x115bf4ad0>"
      ]
     },
     "execution_count": 93,
     "metadata": {},
     "output_type": "execute_result"
    },
    {
     "data": {
      "image/png": "[encoded data removed]",
      "text/plain": [
       "<matplotlib.figure.Figure at 0x115bf4d10>"
      ]
     },
     "metadata": {},
     "output_type": "display_data"
    }
   ],
   "source": [
    "err = bootstrap(bm_swaps, y2pv, 0, lbds, [-2, 2], 1)\n",
    "df = pd.DataFrame(err, columns=curve_tags, index=lbds)\n",
    "df.plot(figsize=(10, 6), xlim=[0,50])\n",
    "plt.xlabel(\"$\\lambda$\")\n",
    "plt.title(\"Pricing Error Against S\\lambdaS\")\n",
    "plt.axhline(0.0001, color='k')\n"
   ]
  },
  {
   "cell_type": "markdown",
   "metadata": {},
   "source": [
    "#### 3.\n",
    "Using the iteration technique to reduce the L-2 norm of the error below 1bps, how many iteration is needed for the error to go below 1bps?"
   ]
  },
  {
   "cell_type": "code",
   "execution_count": null,
   "metadata": {
    "collapsed": true
   },
   "outputs": [],
   "source": []
  },
  {
   "cell_type": "markdown",
   "metadata": {},
   "source": [
    "#### 4.\n",
    "From the curve built in the previous step, compute both the $y(t)$ and the instantaneous forward rate $f(t) = -\\frac{1}{b(t)}\\frac{d b(t)}{d t} = \\frac{d y(t)}{dt}$, and show how their shapes change with the tension parameter $\\lambda$. In addition, compare the changes in the instantaneous forward rates with 1bps change in the 5Y par swap rate. You can use the deriv() method in the Tension spline class. "
   ]
  },
  {
   "cell_type": "code",
   "execution_count": null,
   "metadata": {
    "collapsed": true
   },
   "outputs": [],
   "source": []
  },
  {
   "cell_type": "markdown",
   "metadata": {},
   "source": [
    "#### 5.\n",
    "Repeat the previous step, but directly interpolating the forward rates $f(t)$, and comment on whether it is suitable in practice.\n",
    "\n",
    "* in step 5, you may have to mix the old and new results to stablize the iteration, (e.g., use mixf=0.5 in the inst.iterboot function, or your own)"
   ]
  },
  {
   "cell_type": "code",
   "execution_count": null,
   "metadata": {
    "collapsed": true
   },
   "outputs": [],
   "source": []
  },
  {
   "cell_type": "markdown",
   "metadata": {},
   "source": [
    "#### 6.\n",
    "[extra credit] Build the curve by interpolating the zero rate with tension spline instead, i.e, $r(t) = \\frac{y(t)}{t}$, compare how the forward rates shape and perturbations differ from those obtained in step 4, and comment on the pro and cons between interpolating $r(t)$ and $y(t)$."
   ]
  },
  {
   "cell_type": "code",
   "execution_count": null,
   "metadata": {
    "collapsed": true
   },
   "outputs": [],
   "source": []
  },
  {
   "cell_type": "markdown",
   "metadata": {},
   "source": [
    "#### 7.\n",
    "[extra credit] write your own bootstrap function instead of calling those provided by the class library"
   ]
  },
  {
   "cell_type": "code",
   "execution_count": null,
   "metadata": {
    "collapsed": true
   },
   "outputs": [],
   "source": []
  }
 ],
 "metadata": {
  "kernelspec": {
   "display_name": "Python 2",
   "language": "python",
   "name": "python2"
  },
  "language_info": {
   "codemirror_mode": {
    "name": "ipython",
    "version": 2
   },
   "file_extension": ".py",
   "mimetype": "text/x-python",
   "name": "python",
   "nbconvert_exporter": "python",
   "pygments_lexer": "ipython2",
   "version": "2.7.11"
  }
 },
 "nbformat": 4,
 "nbformat_minor": 0
}
