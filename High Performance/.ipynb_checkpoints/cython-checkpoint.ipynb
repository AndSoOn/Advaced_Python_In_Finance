{
 "cells": [
  {
   "cell_type": "code",
   "execution_count": 8,
   "metadata": {
    "collapsed": true
   },
   "outputs": [],
   "source": [
    "import random\n",
    "import time\n",
    "\n",
    "def dice6_py(N, ndice, nsix):\n",
    "    M = 0                     # no of successful events\n",
    "    for i in range(N):        # repeat N experiments\n",
    "        six = 0               # how many dice with six eyes?\n",
    "        for j in range(ndice):\n",
    "            r = random.randint(1, 6)  # roll die no. j\n",
    "            if r == 6:\n",
    "                six += 1\n",
    "        if six >= nsix:       # successful event?\n",
    "            M += 1\n",
    "    p = float(M)/N\n",
    "    return p"
   ]
  },
  {
   "cell_type": "code",
   "execution_count": 12,
   "metadata": {
    "collapsed": true
   },
   "outputs": [],
   "source": [
    "# m\n",
    "ndice = 4\n",
    "#n\n",
    "nsix = 4\n",
    "N = 10**6"
   ]
  },
  {
   "cell_type": "code",
   "execution_count": 13,
   "metadata": {
    "collapsed": false
   },
   "outputs": [
    {
     "name": "stdout",
     "output_type": "stream",
     "text": [
      "0.000791\n",
      "4.5158059597\n"
     ]
    }
   ],
   "source": [
    "t1 = time.time()\n",
    "p = dice6_py(N, ndice, nsix)\n",
    "t2 = time.time() - t1\n",
    "print p\n",
    "print t2"
   ]
  },
  {
   "cell_type": "code",
   "execution_count": 10,
   "metadata": {
    "collapsed": false
   },
   "outputs": [
    {
     "name": "stderr",
     "output_type": "stream",
     "text": [
      "Vendor:  Continuum Analytics, Inc.\n",
      "Package: mkl\n",
      "Message: trial mode expires in 25 days\n"
     ]
    }
   ],
   "source": [
    "import numpy as np\n",
    "def dice6_vec1(N, ndice, nsix):\n",
    "    eyes = np.random.random_integers(1, 6, size=(N, ndice))\n",
    "    compare = eyes == 6\n",
    "    throws_with_6 = np.sum(compare, axis=1)  # sum over columns\n",
    "    nsuccesses = throws_with_6 >= nsix\n",
    "    M = np.sum(nsuccesses)\n",
    "    p = float(M)/N\n",
    "    return p"
   ]
  },
  {
   "cell_type": "code",
   "execution_count": 14,
   "metadata": {
    "collapsed": false
   },
   "outputs": [
    {
     "name": "stdout",
     "output_type": "stream",
     "text": [
      "0.00079\n",
      "0.0847580432892\n"
     ]
    }
   ],
   "source": [
    "t1 = time.time()\n",
    "p = dice6_vec1(N, ndice, nsix)\n",
    "t2 = time.time() - t1\n",
    "print p\n",
    "print t2"
   ]
  },
  {
   "cell_type": "code",
   "execution_count": 15,
   "metadata": {
    "collapsed": true
   },
   "outputs": [],
   "source": [
    "def dice6_vec2(N, ndice, nsix):\n",
    "    eyes = np.random.random_integers(1, 6, (N, ndice))\n",
    "    six = [6 for i in range(ndice)]\n",
    "    M = 0\n",
    "    for i in range(N):\n",
    "        # Check experiment no. i:\n",
    "        compare = eyes[i,:] == six\n",
    "        if np.sum(compare) >= nsix:\n",
    "            M += 1\n",
    "    p = float(M)/N\n",
    "    return p"
   ]
  },
  {
   "cell_type": "code",
   "execution_count": 16,
   "metadata": {
    "collapsed": false
   },
   "outputs": [
    {
     "name": "stdout",
     "output_type": "stream",
     "text": [
      "0.000736\n",
      "5.77308392525\n"
     ]
    }
   ],
   "source": [
    "t1 = time.time()\n",
    "p = dice6_vec2(N, ndice, nsix)\n",
    "t2 = time.time() - t1\n",
    "print p\n",
    "print t2"
   ]
  },
  {
   "cell_type": "code",
   "execution_count": 17,
   "metadata": {
    "collapsed": true
   },
   "outputs": [],
   "source": [
    "%load_ext Cython"
   ]
  },
  {
   "cell_type": "code",
   "execution_count": 19,
   "metadata": {
    "collapsed": false
   },
   "outputs": [],
   "source": [
    "%%cython\n",
    "import random\n",
    "def dice6_cy1(int N, int ndice, int nsix):\n",
    "    cdef int M = 0            # no of successful events\n",
    "    cdef int six, r\n",
    "    cdef double p\n",
    "    for i in range(N):        # repeat N experiments\n",
    "        six = 0               # how many dice with six eyes?\n",
    "        for j in range(ndice):\n",
    "            r = random.randint(1, 6)  # roll die no. j\n",
    "            if r == 6:\n",
    "                six += 1\n",
    "        if six >= nsix:       # successful event?\n",
    "            M += 1\n",
    "    p = float(M)/N\n",
    "    return p\n"
   ]
  },
  {
   "cell_type": "code",
   "execution_count": 20,
   "metadata": {
    "collapsed": false
   },
   "outputs": [
    {
     "name": "stdout",
     "output_type": "stream",
     "text": [
      "0.000788\n",
      "4.05803489685\n"
     ]
    }
   ],
   "source": [
    "t1 = time.time()\n",
    "p = dice6_cy1(N, ndice, nsix)\n",
    "t2 = time.time() - t1\n",
    "print p\n",
    "print t2"
   ]
  },
  {
   "cell_type": "code",
   "execution_count": 22,
   "metadata": {
    "collapsed": false
   },
   "outputs": [],
   "source": [
    "%%cython\n",
    "import random\n",
    "import  numpy as np\n",
    "cimport numpy as np\n",
    "cimport cython\n",
    "@cython.boundscheck(False)\n",
    "def dice6_cy2(int N, int ndice, int nsix):\n",
    "    # Use numpy to generate all random numbers\n",
    "    cdef int M = 0            # no of successful events\n",
    "    cdef int six, r\n",
    "    cdef double p\n",
    "    cdef np.ndarray[np.int_t,\n",
    "                    ndim=2,\n",
    "                    negative_indices=False,\n",
    "                    mode='c'] eyes = \\\n",
    "                    np.random.random_integers(1, 6, (N, ndice))\n",
    "    for i in range(N):\n",
    "        six = 0               # how many dice with six eyes?\n",
    "        for j in range(ndice):\n",
    "            r = eyes[i,j]     # roll die no. j\n",
    "            if r == 6:\n",
    "                six += 1\n",
    "        if six >= nsix:       # successful event?\n",
    "            M += 1\n",
    "    p = float(M)/N\n",
    "    return p\n"
   ]
  },
  {
   "cell_type": "code",
   "execution_count": 23,
   "metadata": {
    "collapsed": false
   },
   "outputs": [
    {
     "name": "stdout",
     "output_type": "stream",
     "text": [
      "0.000841\n",
      "0.0705440044403\n"
     ]
    }
   ],
   "source": [
    "t1 = time.time()\n",
    "p = dice6_cy2(N, ndice, nsix)\n",
    "t2 = time.time() - t1\n",
    "print p\n",
    "print t2"
   ]
  },
  {
   "cell_type": "code",
   "execution_count": 28,
   "metadata": {
    "collapsed": false
   },
   "outputs": [],
   "source": [
    "%%cython\n",
    "import random\n",
    "from libc.stdlib cimport rand, RAND_MAX\n",
    "import  numpy as np\n",
    "cimport numpy as np\n",
    "cimport cython\n",
    "@cython.boundscheck(False)\n",
    "def dice6_cy3(int N, int ndice, int nsix):\n",
    "    cdef int M = 0            # no of successful events\n",
    "    cdef int six, r\n",
    "    cdef double p\n",
    "    for i in range(N):\n",
    "        six = 0               # how many dice with six eyes?\n",
    "        for j in range(ndice):\n",
    "            # Roll die no. j\n",
    "            r = 1 + int(rand()/(RAND_MAX*6.0))\n",
    "            if r == 6:\n",
    "                six += 1\n",
    "        if six >= nsix:       # successful event?\n",
    "            M += 1\n",
    "    p = float(M)/N\n",
    "    return p"
   ]
  },
  {
   "cell_type": "code",
   "execution_count": 29,
   "metadata": {
    "collapsed": false
   },
   "outputs": [
    {
     "name": "stdout",
     "output_type": "stream",
     "text": [
      "0.0\n",
      "0.313910961151\n"
     ]
    }
   ],
   "source": [
    "t1 = time.time()\n",
    "p = dice6_cy3(N, ndice, nsix)\n",
    "t2 = time.time() - t1\n",
    "print p\n",
    "print t2"
   ]
  },
  {
   "cell_type": "code",
   "execution_count": null,
   "metadata": {
    "collapsed": true
   },
   "outputs": [],
   "source": []
  }
 ],
 "metadata": {
  "kernelspec": {
   "display_name": "Python 2",
   "language": "python",
   "name": "python2"
  },
  "language_info": {
   "codemirror_mode": {
    "name": "ipython",
    "version": 2
   },
   "file_extension": ".py",
   "mimetype": "text/x-python",
   "name": "python",
   "nbconvert_exporter": "python",
   "pygments_lexer": "ipython2",
   "version": "2.7.11"
  }
 },
 "nbformat": 4,
 "nbformat_minor": 0
}
