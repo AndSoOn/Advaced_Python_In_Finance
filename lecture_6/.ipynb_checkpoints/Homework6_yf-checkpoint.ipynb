{
 "cells": [
  {
   "cell_type": "code",
   "execution_count": 3,
   "metadata": {
    "collapsed": false
   },
   "outputs": [
    {
     "name": "stdout",
     "output_type": "stream",
     "text": [
      "Populating the interactive namespace from numpy and matplotlib\n"
     ]
    }
   ],
   "source": [
    "%pylab inline\n",
    "import math"
   ]
  },
  {
   "cell_type": "markdown",
   "metadata": {},
   "source": [
    "# Homework Set 6\n",
    "### Name: Yuan Feng (yf519)"
   ]
  },
  {
   "cell_type": "markdown",
   "metadata": {},
   "source": [
    "## Problem 1 \n",
    "\n",
    "D. Bindel and J. Goodman: Principles of Scientific Computing, Chapter 6, Exercise 7.\n",
    "\n"
   ]
  },
  {
   "cell_type": "markdown",
   "metadata": {
    "collapsed": true
   },
   "source": [
    "(a)\n",
    "\n",
    "If $x_{k+1}$ is a local minimum of $V$ in search direction $p_k= -g^*(x_k) = -\\Delta V^*(x_k)$.\n",
    "\n",
    "$$\n",
    "\\frac{\\partial V(x_{k+1}+tp_k)}{\\partial t} =\\frac{\\partial V}{\\partial x_{k+1}}\\frac{x_{k+1}}{\\partial t} = g^*(x_{k+1})p_k = 0\n",
    "$$\n",
    "\n",
    "Let $p_{k+1} =  -g^*(x_{k+1})$, we got $$-p_{k+1}\\cdot p_k = 0 \\Rightarrow p_{k+1} \\text{  and  }  p_k \\text{  is orthogonal}$$"
   ]
  },
  {
   "cell_type": "markdown",
   "metadata": {},
   "source": [
    "(b)\n",
    "\n",
    "$p_{k+1} $ and $ p_k$ is orthogonal, therefore, if $p_k$ is in the direction of $(-1,-1)^*$, then let $p_{k+1} = (a,b)^*$, where $a,b$ are arbitrary constants.\n",
    "$$\n",
    "p_{k+1}\\cdot p_k = 0 \\Rightarrow -a-b = 0 \\Rightarrow a=-b\n",
    "$$\n",
    "\n",
    "Therefore $p_{k+1} = (-1,1)^*$\n"
   ]
  },
  {
   "cell_type": "markdown",
   "metadata": {},
   "source": [
    "(c)\n",
    "\n",
    "Proof\n",
    "\n",
    "$\\left( \\Leftarrow \\right)$\n",
    "\n",
    "Given that $(x_1, x_2) = r(\\lambda_2, \\lambda_1)$\n",
    "\n",
    "\\begin{align}\n",
    "p_k &= -\\nabla V^*(x_k) \\\\\n",
    "&= \n",
    "-\\left(\n",
    "\\begin{smallmatrix}\n",
    "\\partial_{x_{1}} V^*(x_k)\\\\\n",
    "\\partial_{x_{2}} V^*(x_k)\\\\\n",
    "\\end{smallmatrix} \n",
    "\\right) \n",
    "=\n",
    "-\\left(\\begin{smallmatrix}\n",
    "\\lambda_1 x_1\\\\\n",
    "\\lambda_2 x_2\\\\\n",
    "\\end{smallmatrix} \\right) \n",
    "=\n",
    "-\\left(\\begin{smallmatrix}\n",
    "\\lambda_1 2r\\lambda_2\\\\\n",
    "\\lambda_2 2r\\lambda_1\\\\\n",
    "\\end{smallmatrix} \\right) \n",
    "=\n",
    "-\\left(\\begin{smallmatrix}\n",
    "2r \\lambda_1 \\lambda_2\\\\\n",
    "2r \\lambda_1 \\lambda_2\\\\\n",
    "\\end{smallmatrix} \\right) \\\\\n",
    "&=\n",
    "\\left(\n",
    "\\begin{smallmatrix}\n",
    "-1\\\\\n",
    "-1\\\\\n",
    "\\end{smallmatrix} \\right)\n",
    "\\end{align}\n",
    "\n",
    "\n",
    "\n",
    "$\\left( \\Rightarrow \\right)$\n",
    "\n",
    "Given that $p_k = (-1,-1)^*$\n",
    "\n",
    "Consider that,\n",
    "\\begin{align}\n",
    "p_k &= \n",
    "-\\left(\n",
    "\\begin{smallmatrix}\n",
    "1\\\\\n",
    "1\\\\\n",
    "\\end{smallmatrix} \\right) \n",
    "= -\\nabla V^*(x_k) \n",
    "=\n",
    "-\\left(\\begin{smallmatrix}\n",
    "\\lambda_1 x_1\\\\\n",
    "\\lambda_2 x_2\\\\\n",
    "\\end{smallmatrix} \\right) \\\\\n",
    "&\\Rightarrow \\lambda_1 x_1 = \\lambda_2 x_2 \n",
    "\\end{align}\n",
    "\n",
    "\n",
    "Assume without loss of generality that $x_1, x_2 \\neq 0$\n",
    "\n",
    "We obtain $(x_1, x_2) = r(\\lambda_2, \\lambda_1)$ where $r$ is arbitrary constant.\n",
    "\n",
    "QED."
   ]
  },
  {
   "cell_type": "markdown",
   "metadata": {},
   "source": [
    "(d)\n"
   ]
  },
  {
   "cell_type": "markdown",
   "metadata": {},
   "source": [
    "(e)\n",
    "\n",
    "if $\\lambda_1 \\gg \\lambda_2$, given that $\\rho = \\frac{\\lambda_1 -\\lambda_2}{\\lambda_1 +\\lambda_2} $ and $\\kappa(H) = \\lambda_1/\\lambda_2$\n",
    "$$\n",
    "\\rho = \\frac{\\lambda_1 +\\lambda_2-2\\lambda_2}{\\lambda_1 +\\lambda_2} = 1- \\frac{2\\lambda_2}{\\lambda_1 +\\lambda_2} \\approx 1- \\frac{2\\lambda_2}{\\lambda_1} = 1- \\frac{2}{\\frac{\\lambda_1}{\\lambda_2}} = 1 - \\frac{2}{\\kappa(H)}\n",
    "$$"
   ]
  },
  {
   "cell_type": "markdown",
   "metadata": {},
   "source": [
    "(f)\n",
    "\n",
    "Let \n",
    "\\begin{align}\n",
    "\\left(1-\\frac{2}{\\kappa(H)}\\right)^n \n",
    "&= e^{-2} \\\\\n",
    "& \\Rightarrow 1-\\frac{2}{\\kappa(H)} = e^{-\\frac{2}{n}} = 1 -\\frac{2}{n} +O(\\frac{\\epsilon}{n^2}) \\\\\n",
    "& \\Rightarrow n = \\kappa (H)\n",
    "\\end{align}"
   ]
  },
  {
   "cell_type": "code",
   "execution_count": null,
   "metadata": {
    "collapsed": true
   },
   "outputs": [],
   "source": []
  },
  {
   "cell_type": "code",
   "execution_count": null,
   "metadata": {
    "collapsed": true
   },
   "outputs": [],
   "source": []
  },
  {
   "cell_type": "markdown",
   "metadata": {},
   "source": [
    "## Problem 2\n",
    "\n",
    "For the quadratic programming problem derived for portfolio optimization\n",
    "\n",
    "$$\n",
    "\\begin{array}\n",
    "\\\\\n",
    "\\min_{\\bf x} & &  \\frac{1}{2} \\lambda\\; {\\bf x}^T \\Sigma {\\bf x} - \\mu^T {\\bf x} \n",
    "\\\\\n",
    "s.t. & & \\Sigma x_i = 1\n",
    "\\end{array}\n",
    "$$\n",
    "\n",
    "where $\\lambda$ is the risk-aversion coefficient, $\\mu$ is the expected asset return vector and $\\Sigma$ is the covariance matrix.  Derive the dual problem.\n"
   ]
  },
  {
   "cell_type": "markdown",
   "metadata": {
    "collapsed": true
   },
   "source": [
    "Denote that\n",
    "\n",
    "\\begin{align}\n",
    "f(\\bf x) &=  \\frac{1}{2} \\lambda\\ {\\bf x}^T \\Sigma {\\bf x} - \\mu^T {\\bf x} \\\\\n",
    "\\bf w^T &= (1, 1, ..., 1)^T \n",
    "\\end{align}\n",
    "\n",
    "Define the Lagragian as:\n",
    "\\begin{align}\n",
    "\\mathbb{L}(\\bf \\beta) &= f(\\bf x) - \\beta(\\bf x^T w -1) \\\\\n",
    " &= \\frac{1}{2} \\lambda\\; {\\bf x}^T \\Sigma {\\bf x} - \\mu^T {\\bf x}- \\beta(\\bf x^T w -1)\n",
    "\\end{align}\n",
    "\n",
    "Take derivative w.r.t. $\\bf x$ and set it to 0, we obtain\n",
    "\\begin{align}\n",
    "\\frac{\\partial \\mathbb{L}}{\\partial \\bf x} &=\n",
    "\\lambda{\\bf x}^T\\Sigma - \\mu^T+\\beta^T =0 \\\\\n",
    "\\Rightarrow \\bf x^T &= \\frac{1}{\\lambda}(\\mu^T-\\beta^T)\\Sigma^{-1} \\\\\n",
    "\\Rightarrow \\bf x &= \\frac{1}{\\lambda}(\\Sigma^{-1})^T (\\mu ^T-\\beta ^T)^T = \\frac{1}{\\lambda}(\\Sigma^{-1})^T (\\mu-\\beta)\n",
    "\\end{align}\n",
    "\n",
    "Substitute into $\\mathbb{L}(\\bf \\beta)$, and since inverse of a symmetric matrix is also symmetric, we simplify it as\n",
    "\\begin{align}\n",
    "\\mathbb{L}(\\bf \\beta) &= \\frac{1}{2} \\lambda\\ \\frac{1}{\\lambda}(\\mu^T-\\beta^T)\\Sigma^{-1} \\Sigma  \\frac{1}{\\lambda}(\\Sigma^{-1})^T (\\mu-\\beta) - \\mu^T {\\frac{1}{\\lambda}(\\Sigma^{-1})^T (\\mu-\\beta)}- \\beta(\\bf \\frac{1}{\\lambda}(\\mu^T-\\beta^T)\\Sigma^{-1} \\bf w -1) \\\\\n",
    "&= \\frac{1}{2}\\frac{1}{\\lambda}(\\mu^T-\\beta^T)(\\Sigma^{-1})^T (\\mu-\\beta) - \\mu^T {\\frac{1}{\\lambda}(\\Sigma^{-1})^T (\\mu-\\beta)}- \\frac{1}{\\lambda} \\beta((\\mu^T-\\beta^T)\\Sigma^{-1}\\bf w -1) \\\\\n",
    "&= \\frac{1}{2\\lambda}(\\mu^T-\\beta^T)(\\Sigma^{-1}) (\\mu-\\beta) - {\\frac{1}{\\lambda} \\mu^T (\\Sigma^{-1}) (\\mu-\\beta)}- \\beta(\\left(\\frac{1}{\\lambda}(\\mu^T-\\beta^T)\\Sigma^{-1}\\right ) \\bf w -1) \\\\\n",
    "&=  -\\frac{1}{2\\lambda}(\\mu^T+\\beta^T)(\\Sigma^{-1}) (\\mu-\\beta) - \\beta\\left(\\left(\\frac{1}{\\lambda}(\\mu^T-\\beta^T)\\Sigma^{-1}\\right ) \\bf w -1\\right)\n",
    "\\end{align}\n",
    "\n",
    "Thus the dual problem is:\n",
    "\n",
    "$$\n",
    "\\begin{array}\n",
    "\\\\\n",
    "\\max_{\\beta} & &  -\\frac{1}{2\\lambda}(\\mu^T+\\beta^T)(\\Sigma^{-1}) (\\mu-\\beta) - \\beta\\left(\\left(\\frac{1}{\\lambda}(\\mu^T-\\beta^T)\\Sigma^{-1}\\right ) \\bf w -1\\right)\n",
    "\\\\\n",
    "s.t. & & \\beta \\succcurlyeq 0\n",
    "\\end{array}\n",
    "$$\n",
    "\n"
   ]
  },
  {
   "cell_type": "code",
   "execution_count": null,
   "metadata": {
    "collapsed": true
   },
   "outputs": [],
   "source": []
  }
 ],
 "metadata": {
  "kernelspec": {
   "display_name": "Python 2",
   "language": "python",
   "name": "python2"
  },
  "language_info": {
   "codemirror_mode": {
    "name": "ipython",
    "version": 2
   },
   "file_extension": ".py",
   "mimetype": "text/x-python",
   "name": "python",
   "nbconvert_exporter": "python",
   "pygments_lexer": "ipython2",
   "version": "2.7.11"
  }
 },
 "nbformat": 4,
 "nbformat_minor": 0
}
