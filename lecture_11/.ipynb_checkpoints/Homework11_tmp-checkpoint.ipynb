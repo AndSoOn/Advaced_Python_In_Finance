{
 "cells": [
  {
   "cell_type": "markdown",
   "metadata": {},
   "source": [
    "# Homework Set 11"
   ]
  },
  {
   "cell_type": "code",
   "execution_count": 2,
   "metadata": {
    "collapsed": false
   },
   "outputs": [
    {
     "name": "stdout",
     "output_type": "stream",
     "text": [
      "Populating the interactive namespace from numpy and matplotlib\n"
     ]
    }
   ],
   "source": [
    "%pylab inline"
   ]
  },
  {
   "cell_type": "markdown",
   "metadata": {},
   "source": [
    "## Problem 1:\n",
    "\n",
    "* Applying the forward Euler's scheme to the second order ODE:\n",
    "\n",
    "$$\n",
    "y'' + (\\lambda+1)y' + \\lambda y = 0, \\;\\; y(0) = 1, \\;\\; y'(0) = \\lambda - 2, \\;\\; \\lambda >> 1.\n",
    "$$\n",
    "\n",
    "Rewrite it as a system of first order ODEs. Find the region of absolute stability. (Hint: find the eigen value decomposition of the coefficient matrix, and the region of absolute stability is the domain where the step size is chosen so that each eigen value satifies the condition for the 1D ODE.)\n",
    "     \n",
    "   "
   ]
  },
  {
   "cell_type": "markdown",
   "metadata": {},
   "source": [
    "## Solution:\n",
    "\n",
    "The second order ODE can be rewritten as:"
   ]
  },
  {
   "cell_type": "markdown",
   "metadata": {},
   "source": [
    "$$\n",
    "\\renewcommand{bs}{\\boldsymbol}\n",
    "\\renewcommand{by}{\\boldsymbol{y}}\n",
    "\\renewcommand{bf}{\\boldsymbol{f}}\n",
    "$$\n",
    "$$\n",
    "\\begin{matrix}\n",
    "\\left[\n",
    "\\begin{matrix}\n",
    "y \\\\\n",
    "v \\\\\n",
    "\\end{matrix}\n",
    "\\right]^{'} =  \\left[\n",
    "\\begin{matrix}\n",
    "v \\\\\n",
    "-(\\lambda+1)v - \\lambda y \\\\\n",
    "\\end{matrix}\n",
    "\\right] = \\left[\n",
    "\\begin{matrix}\n",
    "0&1\\\\\n",
    "-\\lambda&-(\\lambda+1)\\\\\n",
    "\\end{matrix}\n",
    "\\right] \\left[\n",
    "\\begin{matrix}\n",
    "y \\\\\n",
    "v \\\\\n",
    "\\end{matrix}\n",
    "\\right], ~~~~~ y(0) = 1, ~z(0) = \\lambda -2\n",
    "\\end{matrix}\n",
    "$$"
   ]
  },
  {
   "cell_type": "markdown",
   "metadata": {},
   "source": [
    "To show the region of absolute stability, we first calculate the eigen values of the above coefficient matrix:"
   ]
  },
  {
   "cell_type": "markdown",
   "metadata": {},
   "source": [
    "$Ax = \\lambda_i x$  \n",
    "\n",
    "Which gives us two eigen values $\\lambda_1 = -1$, $\\lambda_2 = -\\lambda$\n",
    "\n",
    "Then, plug these two values into the corresponding conditions:\n",
    "\n",
    "$ \\left| 1 + h\\lambda_i \\right| < 1$\n",
    "\n",
    "We got:\n",
    "\n",
    "$0 < h < 2 $, and $ 0 < h < \\frac{2}{\\lambda}$\n",
    "\n",
    "Since $\\lambda >> 1$, the region of absolute stability is:\n",
    "\n",
    "$0< h < \\frac{2}{\\lambda}$"
   ]
  },
  {
   "cell_type": "markdown",
   "metadata": {},
   "source": [
    "## Problem 2:\n",
    "\n",
    "* Build a python program based on \"odeint\" to solve the above ODE for different $\\lambda $ values. Provide at least two cases that show  different behavior of the solution based on the stiffness of the problem.\n",
    "     \n",
    "   "
   ]
  },
  {
   "cell_type": "code",
   "execution_count": 21,
   "metadata": {
    "collapsed": false
   },
   "outputs": [
    {
     "data": {
      "image/png": "[encoded data removed]",
      "text/plain": [
       "<matplotlib.figure.Figure at 0x10e4f6050>"
      ]
     },
     "metadata": {},
     "output_type": "display_data"
    }
   ],
   "source": [
    "%matplotlib inline\n",
    "import matplotlib.pyplot as plt\n",
    "import numpy as np\n",
    "from scipy.integrate import odeint\n",
    "\n",
    "lbd = 11\n",
    "def f(y,t):\n",
    "    #return [y[1], (1 - y[0]*y[0])*y[1] - y[0]]\n",
    "    return [y[1], -(lbd+1)*y[1] - lbd*y[0]]\n",
    "\n",
    "# initial value\n",
    "y0 = [1.0, lbd-2]\n",
    "#y0 = [lbd-2, 1.0]\n",
    "n = 1000\n",
    "T = 0.3*lbd\n",
    "h = T/n\n",
    "ts = np.arange(0.0001,T, h)\n",
    "ys = odeint(f, y0, ts)\n",
    "   \n",
    "fig = plt.figure(figsize=(16,6))\n",
    "ax =  fig.add_subplot(1, 2, 1)\n",
    "ax.plot(ts, ys[:, :], '.-')  \n",
    "#ax.set_ylim([-5, 5])\n",
    "plt.xlabel('Time')\n",
    "plt.title('odeint')\n",
    "\n",
    "ax = fig.add_subplot(122)\n",
    "ax.set_axis_off()\n",
    "ax.text(0, .5, \"$\\;\\; y' = \\mu (1-x^2)y - x$ \", size=\"xx-large\");\n",
    "ax.text(0, .6, \"$\\;\\; x' = y$\", size=\"xx-large\");\n",
    "ax.text(0, .75, \"Integrating Van der Pol system\", size=\"x-large\");\n",
    "\n",
    "plt.show()\n"
   ]
  },
  {
   "cell_type": "code",
   "execution_count": 22,
   "metadata": {
    "collapsed": false
   },
   "outputs": [
    {
     "data": {
      "text/plain": [
       "0.02"
      ]
     },
     "execution_count": 22,
     "metadata": {},
     "output_type": "execute_result"
    }
   ],
   "source": [
    "2./lbd"
   ]
  },
  {
   "cell_type": "code",
   "execution_count": 21,
   "metadata": {
    "collapsed": false
   },
   "outputs": [
    {
     "data": {
      "text/plain": [
       "0.3"
      ]
     },
     "execution_count": 21,
     "metadata": {},
     "output_type": "execute_result"
    }
   ],
   "source": [
    "T"
   ]
  },
  {
   "cell_type": "code",
   "execution_count": 7,
   "metadata": {
    "collapsed": false
   },
   "outputs": [
    {
     "data": {
      "text/plain": [
       "0.03"
      ]
     },
     "execution_count": 7,
     "metadata": {},
     "output_type": "execute_result"
    }
   ],
   "source": [
    "h"
   ]
  },
  {
   "cell_type": "code",
   "execution_count": null,
   "metadata": {
    "collapsed": true
   },
   "outputs": [],
   "source": []
  }
 ],
 "metadata": {
  "kernelspec": {
   "display_name": "Python 2",
   "language": "python",
   "name": "python2"
  },
  "language_info": {
   "codemirror_mode": {
    "name": "ipython",
    "version": 2
   },
   "file_extension": ".py",
   "mimetype": "text/x-python",
   "name": "python",
   "nbconvert_exporter": "python",
   "pygments_lexer": "ipython2",
   "version": "2.7.11"
  }
 },
 "nbformat": 4,
 "nbformat_minor": 0
}
