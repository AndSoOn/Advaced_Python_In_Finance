{
 "cells": [
  {
   "cell_type": "code",
   "execution_count": 186,
   "metadata": {
    "collapsed": false
   },
   "outputs": [
    {
     "name": "stdout",
     "output_type": "stream",
     "text": [
      "Populating the interactive namespace from numpy and matplotlib\n"
     ]
    },
    {
     "name": "stderr",
     "output_type": "stream",
     "text": [
      "WARNING: pylab import has clobbered these variables: ['norm', 'e']\n",
      "`%matplotlib` prevents importing * from pylab and numpy\n"
     ]
    }
   ],
   "source": [
    "%pylab inline\n",
    "import pandas as pd\n",
    "import numpy as np\n",
    "import fmt\n",
    "from scipy.stats import norm\n",
    "import matplotlib.pyplot as plt\n",
    "import matplotlib\n",
    "matplotlib.style.use('ggplot')"
   ]
  },
  {
   "cell_type": "markdown",
   "metadata": {},
   "source": [
    "# Homework Set 7"
   ]
  },
  {
   "cell_type": "markdown",
   "metadata": {},
   "source": [
    "This homework is to price [synthetic CDO](https://en.wikipedia.org/wiki/Synthetic_CDO) using the one factor Gaussian Copula model. \n",
    "\n",
    "A synthetic CDO consists of $n$ CDS, the total loss of the portfolio is defned as:\n",
    "\n",
    "$$ l(t) = \\sum_i^n w_i \\tilde {\\mathbb{1}}_i(t) (1-r_i(t)) $$\n",
    "\n",
    "where $w_i$ and $r_i(t)$ are the notional weights and recovery rate of the i-th name in the portfolio. The notional weighs sum up to 1: $\\sum_i w_i = 1 $. The $ \\tilde {\\mathbb{1}}_i(t) $ is the default indicator of the i-th name defaulted before time $t$, the default probability is therefore $p_i(t) = \\mathbb E[\\tilde {\\mathbb{1}}_i(t) ]$\n",
    "\n",
    "For the purpose of this homework, we consider a simplified synthetic CDO that has no coupon payments, therefore the PV of a \\$1 notional synthetic CDO tranche with maturity $t$, attachment $a$ and detachment $d$ is:\n",
    "\n",
    "$$ v(a, d) = \\frac{d(t)}{d-a} \\min\\left((l(t) - a)^+, d-a\\right) $$\n",
    "\n",
    "where $d(t)$ is the discount factor.\n",
    "\n",
    "The following are the parameters to the synthetic CDO, and a straight forward Monte Carlo pricer:"
   ]
  },
  {
   "cell_type": "code",
   "execution_count": 55,
   "metadata": {
    "collapsed": false
   },
   "outputs": [
    {
     "name": "stdout",
     "output_type": "stream",
     "text": [
      "portfolio expected loss is  0.0418900853308\n"
     ]
    }
   ],
   "source": [
    "n = 125\n",
    "t = 5.\n",
    "defProbs = 1 - exp(-(np.random.uniform(size=n)*.03)*t)\n",
    "recovery = 0.4*np.ones(n)\n",
    "w = 1./n*np.ones(n)\n",
    "rho = 0.5\n",
    "discf = .9\n",
    "npath = 1000\n",
    "\n",
    "# a list of attachements and detachements, they pair up by elements\n",
    "attachements = np.array([0, .03, .07, .1, .15, .3])\n",
    "detachements = np.array([.03, .07, .1, .15, .3, .6])\n",
    "\n",
    "#portfolio expected loss\n",
    "el = np.sum(w*defProbs*(1-recovery))\n",
    "print \"portfolio expected loss is \", el"
   ]
  },
  {
   "cell_type": "code",
   "execution_count": 60,
   "metadata": {
    "collapsed": false
   },
   "outputs": [],
   "source": [
    "from scipy.stats import norm\n",
    "\n",
    "class CDO(object) :\n",
    "    def __init__(self, w, defProbs, recovery, a, d) :\n",
    "        self.w = w/np.sum(w)\n",
    "        self.p = defProbs\n",
    "        self.rec = recovery\n",
    "        self.rho = rho\n",
    "        self.a = a\n",
    "        self.d = d\n",
    "\n",
    "    def drawDefaultIndicator(self, z, rho) :\n",
    "        '''return a list of default indicators given common factor z, using one factor Gaussian Copula\n",
    "        '''\n",
    "        e = np.random.normal(size=np.shape(self.p))\n",
    "        x = z*np.sqrt(self.rho) + np.sqrt(1-self.rho)*e\n",
    "        return np.less(norm.cdf(x), self.p)\n",
    "\n",
    "    def portfolioLoss(self, defIndicator) :\n",
    "        '''compute portfolio loss given default indicators'''\n",
    "        return np.sum(defIndicator*self.w*(1-self.rec))\n",
    "\n",
    "    def tranchePV(self, portfLoss, discf) :\n",
    "        '''compute tranche PV from portfolio loss\n",
    "        Args:\n",
    "            portfLoss: the total portfolio loss\n",
    "            discf: discount factor\n",
    "        Returns:\n",
    "            tranche PVs'''\n",
    "        \n",
    "        sz = self.d - self.a\n",
    "        return discf/sz*np.minimum(np.maximum(portfLoss - self.a, 0), sz)\n",
    "\n",
    "    def drawPV(self, z, rho, discf) :\n",
    "        ''' compute PV and portfolio Loss conditioned on a common factor z'''\n",
    "        di = self.drawDefaultIndicator(z, rho)\n",
    "        pfLoss = self.portfolioLoss(di)\n",
    "        return self.tranchePV(pfLoss, discf), pfLoss\n",
    "    \n",
    "    \n",
    "cdo = CDO(w, defProbs, recovery, attachements, detachements)"
   ]
  },
  {
   "cell_type": "code",
   "execution_count": 61,
   "metadata": {
    "collapsed": false
   },
   "outputs": [],
   "source": [
    "## price the tranches using simulation\n",
    "def simCDO(cdo, rho, disc, paths) :\n",
    "    zs = np.random.normal(size=[paths])\n",
    "    pv = np.zeros(np.shape(cdo.a))\n",
    "    pv2 = np.zeros(np.shape(cdo.d))\n",
    "    for z in zs:\n",
    "        thisPV, _ = cdo.drawPV(z, rho, discf)\n",
    "        pv += thisPV\n",
    "        pv2 += thisPV*thisPV\n",
    "        \n",
    "    v = pv/paths\n",
    "    var = pv2/paths - v**2\n",
    "    return pv/paths, np.sqrt(var/paths), var"
   ]
  },
  {
   "cell_type": "code",
   "execution_count": 62,
   "metadata": {
    "collapsed": false
   },
   "outputs": [
    {
     "data": {
      "text/html": [
       "<center><font size=2><table border=\"1\" class=\"dataframe\">\n",
       "  <thead>\n",
       "    <tr style=\"text-align: right;\">\n",
       "      <th></th>\n",
       "      <th>0</th>\n",
       "      <th>1</th>\n",
       "      <th>2</th>\n",
       "      <th>3</th>\n",
       "      <th>4</th>\n",
       "      <th>5</th>\n",
       "    </tr>\n",
       "  </thead>\n",
       "  <tbody>\n",
       "    <tr>\n",
       "      <th>Attach</th>\n",
       "      <td>0</td>\n",
       "      <td>0.03</td>\n",
       "      <td>0.07</td>\n",
       "      <td>0.1</td>\n",
       "      <td>0.15</td>\n",
       "      <td>0.3</td>\n",
       "    </tr>\n",
       "    <tr>\n",
       "      <th>Detach</th>\n",
       "      <td>0.03</td>\n",
       "      <td>0.07</td>\n",
       "      <td>0.1</td>\n",
       "      <td>0.15</td>\n",
       "      <td>0.3</td>\n",
       "      <td>0.6</td>\n",
       "    </tr>\n",
       "    <tr>\n",
       "      <th>PV</th>\n",
       "      <td>0.442</td>\n",
       "      <td>0.2217</td>\n",
       "      <td>0.1387</td>\n",
       "      <td>0.1003</td>\n",
       "      <td>0.03504</td>\n",
       "      <td>0.001728</td>\n",
       "    </tr>\n",
       "    <tr>\n",
       "      <th>MC err</th>\n",
       "      <td>0.01217</td>\n",
       "      <td>0.01137</td>\n",
       "      <td>0.009989</td>\n",
       "      <td>0.008639</td>\n",
       "      <td>0.004538</td>\n",
       "      <td>0.0006412</td>\n",
       "    </tr>\n",
       "    <tr>\n",
       "      <th>Var</th>\n",
       "      <td>0.1481</td>\n",
       "      <td>0.1292</td>\n",
       "      <td>0.09977</td>\n",
       "      <td>0.07463</td>\n",
       "      <td>0.02059</td>\n",
       "      <td>0.0004111</td>\n",
       "    </tr>\n",
       "  </tbody>\n",
       "</table></font></center>"
      ],
      "text/plain": [
       "<IPython.core.display.HTML object>"
      ]
     },
     "metadata": {},
     "output_type": "display_data"
    }
   ],
   "source": [
    "pv_0, err_0, var_0 = simCDO(cdo, rho, discf, npath)\n",
    "df = pd.DataFrame(np.array([cdo.a, cdo.d, pv_0, err_0, var_0]), index=['Attach', 'Detach', 'PV', 'MC err', 'Var'])\n",
    "\n",
    "fmt.displayDF(df, fmt='4g')"
   ]
  },
  {
   "cell_type": "markdown",
   "metadata": {},
   "source": [
    "## Problem 1\n",
    "\n",
    "Modify the simCDO function to implement the following variance reduction techniques, and show whether the technique is effective:\n",
    "\n",
    "For this homework, we only apply the variance reduction in the common market factor $z$, you should not change the random number $e$ that were drew with in the drawDefaultIndicator function, i.e., only modify the simCDO code, re-use but do not modify the CDO class. Unless explicitly mentioned, keep the simulation path the same as the base case above.\n",
    "\n",
    "1. anti-thetic variate, reduce the number of paths by half to account for the 2x increase in computation\n",
    "1. importance sampling, shift $z$ by -1\n",
    "1. sobol sequence\n",
    "1. stratified sampling: sample $z$ using an equal sized grid\n",
    "\n",
    "Compute the **variance** reduction factor for each technique, and comment on the effectiveness of these variance reduction techniques."
   ]
  },
  {
   "cell_type": "markdown",
   "metadata": {},
   "source": [
    "## Solution:\n",
    "#### 1."
   ]
  },
  {
   "cell_type": "code",
   "execution_count": 71,
   "metadata": {
    "collapsed": true
   },
   "outputs": [],
   "source": [
    "def simCDO_1(cdo, rho, disc, paths) :\n",
    "    zs = np.random.normal(size=[paths])\n",
    "    pv = np.zeros(np.shape(cdo.a))\n",
    "    pv2 = np.zeros(np.shape(cdo.d))\n",
    "    for z in zs:\n",
    "        thisPV1, _ = cdo.drawPV(z, rho, discf)\n",
    "        thisPV2, _ = cdo.drawPV(-z, rho, discf)\n",
    "        thisPV = 0.5*(thisPV1 + thisPV2)\n",
    "        pv += thisPV\n",
    "        pv2 += thisPV*thisPV\n",
    "        \n",
    "    v = pv/paths\n",
    "    var = pv2/paths - v**2\n",
    "    return pv/paths, np.sqrt(var/paths), var"
   ]
  },
  {
   "cell_type": "code",
   "execution_count": 234,
   "metadata": {
    "collapsed": false,
    "scrolled": true
   },
   "outputs": [
    {
     "name": "stdout",
     "output_type": "stream",
     "text": [
      "\n",
      "Anti-thetic: \n",
      "\n"
     ]
    },
    {
     "data": {
      "text/html": [
       "<center><font size=2><table border=\"1\" class=\"dataframe\">\n",
       "  <thead>\n",
       "    <tr style=\"text-align: right;\">\n",
       "      <th></th>\n",
       "      <th>0</th>\n",
       "      <th>1</th>\n",
       "      <th>2</th>\n",
       "      <th>3</th>\n",
       "      <th>4</th>\n",
       "      <th>5</th>\n",
       "    </tr>\n",
       "  </thead>\n",
       "  <tbody>\n",
       "    <tr>\n",
       "      <th>Attach</th>\n",
       "      <td>0</td>\n",
       "      <td>0.03</td>\n",
       "      <td>0.07</td>\n",
       "      <td>0.1</td>\n",
       "      <td>0.15</td>\n",
       "      <td>0.3</td>\n",
       "    </tr>\n",
       "    <tr>\n",
       "      <th>Detach</th>\n",
       "      <td>0.03</td>\n",
       "      <td>0.07</td>\n",
       "      <td>0.1</td>\n",
       "      <td>0.15</td>\n",
       "      <td>0.3</td>\n",
       "      <td>0.6</td>\n",
       "    </tr>\n",
       "    <tr>\n",
       "      <th>PV</th>\n",
       "      <td>0.4535</td>\n",
       "      <td>0.2308</td>\n",
       "      <td>0.1431</td>\n",
       "      <td>0.08844</td>\n",
       "      <td>0.02343</td>\n",
       "      <td>0.001872</td>\n",
       "    </tr>\n",
       "    <tr>\n",
       "      <th>MC err</th>\n",
       "      <td>0.004227</td>\n",
       "      <td>0.008976</td>\n",
       "      <td>0.008921</td>\n",
       "      <td>0.007489</td>\n",
       "      <td>0.00351</td>\n",
       "      <td>0.0008166</td>\n",
       "    </tr>\n",
       "    <tr>\n",
       "      <th>Var</th>\n",
       "      <td>0.008933</td>\n",
       "      <td>0.04029</td>\n",
       "      <td>0.0398</td>\n",
       "      <td>0.02804</td>\n",
       "      <td>0.006158</td>\n",
       "      <td>0.0003335</td>\n",
       "    </tr>\n",
       "  </tbody>\n",
       "</table></font></center>"
      ],
      "text/plain": [
       "<IPython.core.display.HTML object>"
      ]
     },
     "metadata": {},
     "output_type": "display_data"
    },
    {
     "name": "stdout",
     "output_type": "stream",
     "text": [
      "\n",
      "variance reduction factor: [ 16.58092231   3.20711497   2.50717306   2.66147975   3.34388104\n",
      "   1.23288353]\n"
     ]
    }
   ],
   "source": [
    "pv_1, err_1, var_1 = simCDO_1(cdo, rho, discf, npath/2)\n",
    "df = pd.DataFrame(np.array([cdo.a, cdo.d, pv_1, err_1, var_1]), index=['Attach', 'Detach', 'PV', 'MC err', 'Var'])\n",
    "\n",
    "print \"\\nAnti-thetic: \\n\"\n",
    "fmt.displayDF(df, fmt='4g')\n",
    "print \"\\nvariance reduction factor:\", var_0/var_1"
   ]
  },
  {
   "cell_type": "markdown",
   "metadata": {},
   "source": [
    "#### 2."
   ]
  },
  {
   "cell_type": "code",
   "execution_count": 183,
   "metadata": {
    "collapsed": true
   },
   "outputs": [],
   "source": [
    "def simCDO_2(cdo, rho, disc, paths) :\n",
    "    #zs = np.random.normal(size=[paths])\n",
    "    u = -1.\n",
    "    xs_q = np.random.normal(size=[paths]) # Q sample\n",
    "    xs_p = xs_q + u # P sample\n",
    "    qs = 1./paths*np.ones(paths)\n",
    "    zs = np.exp(-u*xs_p + .5*u*u) # R-N derivative\n",
    "    #ps = qs*zs\n",
    "    #ps = ps/sum(ps)  # normalize\n",
    "    \n",
    "    pv = np.zeros(np.shape(cdo.a))\n",
    "    pv2 = np.zeros(np.shape(cdo.d))\n",
    "    for i in xrange(len(xs_p)):\n",
    "        thisPV, _ = cdo.drawPV(xs_p[i], rho, discf)\n",
    "        thisPV *= zs[i]\n",
    "        pv += thisPV\n",
    "        pv2 += thisPV*thisPV\n",
    "        \n",
    "    v = pv/paths\n",
    "    var = pv2/paths - v**2\n",
    "    return pv/paths, np.sqrt(var/paths), var"
   ]
  },
  {
   "cell_type": "code",
   "execution_count": 236,
   "metadata": {
    "collapsed": false
   },
   "outputs": [
    {
     "name": "stdout",
     "output_type": "stream",
     "text": [
      "\n",
      "Importance sampling:\n",
      "\n"
     ]
    },
    {
     "data": {
      "text/html": [
       "<center><font size=2><table border=\"1\" class=\"dataframe\">\n",
       "  <thead>\n",
       "    <tr style=\"text-align: right;\">\n",
       "      <th></th>\n",
       "      <th>0</th>\n",
       "      <th>1</th>\n",
       "      <th>2</th>\n",
       "      <th>3</th>\n",
       "      <th>4</th>\n",
       "      <th>5</th>\n",
       "    </tr>\n",
       "  </thead>\n",
       "  <tbody>\n",
       "    <tr>\n",
       "      <th>Attach</th>\n",
       "      <td>0</td>\n",
       "      <td>0.03</td>\n",
       "      <td>0.07</td>\n",
       "      <td>0.1</td>\n",
       "      <td>0.15</td>\n",
       "      <td>0.3</td>\n",
       "    </tr>\n",
       "    <tr>\n",
       "      <th>Detach</th>\n",
       "      <td>0.03</td>\n",
       "      <td>0.07</td>\n",
       "      <td>0.1</td>\n",
       "      <td>0.15</td>\n",
       "      <td>0.3</td>\n",
       "      <td>0.6</td>\n",
       "    </tr>\n",
       "    <tr>\n",
       "      <th>PV</th>\n",
       "      <td>0.4562</td>\n",
       "      <td>0.2331</td>\n",
       "      <td>0.1416</td>\n",
       "      <td>0.08847</td>\n",
       "      <td>0.03313</td>\n",
       "      <td>0.002935</td>\n",
       "    </tr>\n",
       "    <tr>\n",
       "      <th>MC err</th>\n",
       "      <td>0.009668</td>\n",
       "      <td>0.006522</td>\n",
       "      <td>0.005111</td>\n",
       "      <td>0.003704</td>\n",
       "      <td>0.001726</td>\n",
       "      <td>0.0002869</td>\n",
       "    </tr>\n",
       "    <tr>\n",
       "      <th>Var</th>\n",
       "      <td>0.09352</td>\n",
       "      <td>0.04255</td>\n",
       "      <td>0.02613</td>\n",
       "      <td>0.01372</td>\n",
       "      <td>0.00298</td>\n",
       "      <td>8.261e-05</td>\n",
       "    </tr>\n",
       "  </tbody>\n",
       "</table></font></center>"
      ],
      "text/plain": [
       "<IPython.core.display.HTML object>"
      ]
     },
     "metadata": {},
     "output_type": "display_data"
    },
    {
     "name": "stdout",
     "output_type": "stream",
     "text": [
      "\n",
      "variance reduction factor: [ 1.62884406  3.05395638  3.7610297   5.40867415  6.81411439  4.69955521]\n"
     ]
    }
   ],
   "source": [
    "nBatches = 20\n",
    "\n",
    "PV_2, ERR_2, VAR_2 = [], [], []\n",
    "for i in xrange(nBatches):\n",
    "    pv_2, err_2, var_2 = simCDO_2(cdo, rho, discf, npath)\n",
    "    PV_2.append(pv_2)\n",
    "    ERR_2.append(err_2)\n",
    "    VAR_2.append(var_2)\n",
    "df = pd.DataFrame(np.array([cdo.a, cdo.d, np.mean(PV_2, 0), np.mean(ERR_2, 0), np.mean(VAR_2, 0)]),\\\n",
    "                  index=['Attach', 'Detach', 'PV', 'MC err', 'Var'])\n",
    "\n",
    "print \"\\nImportance sampling:\\n\"\n",
    "fmt.displayDF(df, fmt='4g')\n",
    "print \"\\nvariance reduction factor:\", var_0/var_2"
   ]
  },
  {
   "cell_type": "markdown",
   "metadata": {},
   "source": [
    "#### 3."
   ]
  },
  {
   "cell_type": "code",
   "execution_count": 227,
   "metadata": {
    "collapsed": false
   },
   "outputs": [],
   "source": [
    "import sobol\n",
    "def simCDO_3(cdo, rho, disc, paths) :\n",
    "    e = sobol.sobol_seq.i4_sobol_generate(1, 1000, 2)\n",
    "    zs = norm.ppf(e[0])\n",
    "    pv = np.zeros(np.shape(cdo.a))\n",
    "    pv2 = np.zeros(np.shape(cdo.d))\n",
    "    for z in zs:\n",
    "        thisPV, _ = cdo.drawPV(z, rho, discf)\n",
    "        pv += thisPV\n",
    "        pv2 += thisPV*thisPV\n",
    "        \n",
    "    v = pv/paths\n",
    "    var = pv2/paths - v**2\n",
    "    return pv/paths, np.sqrt(var/paths), var"
   ]
  },
  {
   "cell_type": "code",
   "execution_count": 237,
   "metadata": {
    "collapsed": false
   },
   "outputs": [
    {
     "name": "stdout",
     "output_type": "stream",
     "text": [
      "\n",
      "Sobol sequence:\n",
      "\n"
     ]
    },
    {
     "data": {
      "text/html": [
       "<center><font size=2><table border=\"1\" class=\"dataframe\">\n",
       "  <thead>\n",
       "    <tr style=\"text-align: right;\">\n",
       "      <th></th>\n",
       "      <th>0</th>\n",
       "      <th>1</th>\n",
       "      <th>2</th>\n",
       "      <th>3</th>\n",
       "      <th>4</th>\n",
       "      <th>5</th>\n",
       "    </tr>\n",
       "  </thead>\n",
       "  <tbody>\n",
       "    <tr>\n",
       "      <th>Attach</th>\n",
       "      <td>0</td>\n",
       "      <td>0.03</td>\n",
       "      <td>0.07</td>\n",
       "      <td>0.1</td>\n",
       "      <td>0.15</td>\n",
       "      <td>0.3</td>\n",
       "    </tr>\n",
       "    <tr>\n",
       "      <th>Detach</th>\n",
       "      <td>0.03</td>\n",
       "      <td>0.07</td>\n",
       "      <td>0.1</td>\n",
       "      <td>0.15</td>\n",
       "      <td>0.3</td>\n",
       "      <td>0.6</td>\n",
       "    </tr>\n",
       "    <tr>\n",
       "      <th>PV</th>\n",
       "      <td>0.4562</td>\n",
       "      <td>0.2345</td>\n",
       "      <td>0.1432</td>\n",
       "      <td>0.09098</td>\n",
       "      <td>0.03293</td>\n",
       "      <td>0.002017</td>\n",
       "    </tr>\n",
       "    <tr>\n",
       "      <th>MC err</th>\n",
       "      <td>0.01224</td>\n",
       "      <td>0.01162</td>\n",
       "      <td>0.01001</td>\n",
       "      <td>0.008137</td>\n",
       "      <td>0.004507</td>\n",
       "      <td>0.0007183</td>\n",
       "    </tr>\n",
       "    <tr>\n",
       "      <th>Var</th>\n",
       "      <td>0.1497</td>\n",
       "      <td>0.1349</td>\n",
       "      <td>0.1003</td>\n",
       "      <td>0.06622</td>\n",
       "      <td>0.02032</td>\n",
       "      <td>0.0005216</td>\n",
       "    </tr>\n",
       "  </tbody>\n",
       "</table></font></center>"
      ],
      "text/plain": [
       "<IPython.core.display.HTML object>"
      ]
     },
     "metadata": {},
     "output_type": "display_data"
    },
    {
     "name": "stdout",
     "output_type": "stream",
     "text": [
      "\n",
      "variance reduction factor: [ 0.96722489  0.94118252  0.97720147  1.19469526  1.00731143  0.64247689]\n"
     ]
    }
   ],
   "source": [
    "nBatches = 20\n",
    "\n",
    "PV_3, ERR_3, VAR_3 = [], [], []\n",
    "for i in xrange(nBatches):\n",
    "    pv_3, err_3, var_3 = simCDO_3(cdo, rho, discf, npath)\n",
    "    PV_3.append(pv_3)\n",
    "    ERR_3.append(err_3)\n",
    "    VAR_3.append(var_3)\n",
    "df = pd.DataFrame(np.array([cdo.a, cdo.d, np.mean(PV_3, 0), np.mean(ERR_3, 0), np.mean(VAR_3, 0)]),\\\n",
    "                  index=['Attach', 'Detach', 'PV', 'MC err', 'Var'])\n",
    "\n",
    "print \"\\nSobol sequence:\\n\"\n",
    "fmt.displayDF(df, fmt='4g')\n",
    "print \"\\nvariance reduction factor:\", var_0/var_3"
   ]
  },
  {
   "cell_type": "markdown",
   "metadata": {},
   "source": [
    "#### 4."
   ]
  },
  {
   "cell_type": "code",
   "execution_count": 169,
   "metadata": {
    "collapsed": true
   },
   "outputs": [],
   "source": [
    "def stratify(u, bs, shuffle) :\n",
    "    b = len(bs)\n",
    "    r = len(u)/b + 1\n",
    "    sb = []    \n",
    "    for i in range(r) :\n",
    "        if shuffle :\n",
    "            np.random.shuffle(bs)\n",
    "        sb = sb + bs.tolist()\n",
    "            \n",
    "    return [1.*(i + x)/b for x, i in zip(u, sb)]"
   ]
  },
  {
   "cell_type": "code",
   "execution_count": 229,
   "metadata": {
    "collapsed": true
   },
   "outputs": [],
   "source": [
    "def simCDO_4(cdo, rho, disc, paths) :\n",
    "    bs = np.arange(100)\n",
    "    u = np.random.uniform(size=[paths])\n",
    "    v = stratify(u, bs, False)\n",
    "    zs = norm.ppf(v)\n",
    "    pv = np.zeros(np.shape(cdo.a))\n",
    "    pv2 = np.zeros(np.shape(cdo.d))\n",
    "    for z in zs:\n",
    "        thisPV, _ = cdo.drawPV(z, rho, discf)\n",
    "        pv += thisPV\n",
    "        pv2 += thisPV*thisPV\n",
    "        \n",
    "    v = pv/paths\n",
    "    var = pv2/paths - v**2\n",
    "    return pv/paths, np.sqrt(var/paths), var"
   ]
  },
  {
   "cell_type": "code",
   "execution_count": 238,
   "metadata": {
    "collapsed": false,
    "scrolled": true
   },
   "outputs": [
    {
     "name": "stdout",
     "output_type": "stream",
     "text": [
      "\n",
      "Stratified sampling:\n",
      "\n"
     ]
    },
    {
     "data": {
      "text/html": [
       "<center><font size=2><table border=\"1\" class=\"dataframe\">\n",
       "  <thead>\n",
       "    <tr style=\"text-align: right;\">\n",
       "      <th></th>\n",
       "      <th>0</th>\n",
       "      <th>1</th>\n",
       "      <th>2</th>\n",
       "      <th>3</th>\n",
       "      <th>4</th>\n",
       "      <th>5</th>\n",
       "    </tr>\n",
       "  </thead>\n",
       "  <tbody>\n",
       "    <tr>\n",
       "      <th>Attach</th>\n",
       "      <td>0</td>\n",
       "      <td>0.03</td>\n",
       "      <td>0.07</td>\n",
       "      <td>0.1</td>\n",
       "      <td>0.15</td>\n",
       "      <td>0.3</td>\n",
       "    </tr>\n",
       "    <tr>\n",
       "      <th>Detach</th>\n",
       "      <td>0.03</td>\n",
       "      <td>0.07</td>\n",
       "      <td>0.1</td>\n",
       "      <td>0.15</td>\n",
       "      <td>0.3</td>\n",
       "      <td>0.6</td>\n",
       "    </tr>\n",
       "    <tr>\n",
       "      <th>PV</th>\n",
       "      <td>0.4544</td>\n",
       "      <td>0.2345</td>\n",
       "      <td>0.1449</td>\n",
       "      <td>0.09089</td>\n",
       "      <td>0.03304</td>\n",
       "      <td>0.00271</td>\n",
       "    </tr>\n",
       "    <tr>\n",
       "      <th>MC err</th>\n",
       "      <td>0.01226</td>\n",
       "      <td>0.01162</td>\n",
       "      <td>0.01007</td>\n",
       "      <td>0.008108</td>\n",
       "      <td>0.004552</td>\n",
       "      <td>0.0009309</td>\n",
       "    </tr>\n",
       "    <tr>\n",
       "      <th>Var</th>\n",
       "      <td>0.1503</td>\n",
       "      <td>0.1349</td>\n",
       "      <td>0.1014</td>\n",
       "      <td>0.06574</td>\n",
       "      <td>0.02073</td>\n",
       "      <td>0.0009174</td>\n",
       "    </tr>\n",
       "  </tbody>\n",
       "</table></font></center>"
      ],
      "text/plain": [
       "<IPython.core.display.HTML object>"
      ]
     },
     "metadata": {},
     "output_type": "display_data"
    },
    {
     "name": "stdout",
     "output_type": "stream",
     "text": [
      "\n",
      "variance reduction factor: [ 0.98692472  0.94904929  0.98228963  1.1194354   1.01449206  0.86849569]\n"
     ]
    }
   ],
   "source": [
    "nBatches = 20\n",
    "\n",
    "PV_4, ERR_4, VAR_4 = [], [], []\n",
    "for i in xrange(nBatches):\n",
    "    pv_4, err_4, var_4 = simCDO_4(cdo, rho, discf, npath)\n",
    "    PV_4.append(pv_4)\n",
    "    ERR_4.append(err_4)\n",
    "    VAR_4.append(var_4)\n",
    "df = pd.DataFrame(np.array([cdo.a, cdo.d, np.mean(PV_4, 0), np.mean(ERR_4, 0), np.mean(VAR_4, 0)]),\\\n",
    "                  index=['Attach', 'Detach', 'PV', 'MC err', 'Var'])\n",
    "\n",
    "print \"\\nStratified sampling:\\n\"\n",
    "fmt.displayDF(df, fmt='4g')\n",
    "print \"\\nvariance reduction factor:\", var_0/var_4"
   ]
  },
  {
   "cell_type": "code",
   "execution_count": 242,
   "metadata": {
    "collapsed": false
   },
   "outputs": [
    {
     "data": {
      "text/plain": [
       "<matplotlib.axes._subplots.AxesSubplot at 0x111739c50>"
      ]
     },
     "execution_count": 242,
     "metadata": {},
     "output_type": "execute_result"
    },
    {
     "data": {
      "image/png": "[encoded data removed]",
      "text/plain": [
       "<matplotlib.figure.Figure at 0x111739910>"
      ]
     },
     "metadata": {},
     "output_type": "display_data"
    }
   ],
   "source": [
    "DF = pd.DataFrame(np.array([var_0/var_1, var_0/var_2, var_0/var_3, var_0/var_4]).T, columns=['1', '2', '3', '4'])\n",
    "DF.plot()"
   ]
  },
  {
   "cell_type": "markdown",
   "metadata": {},
   "source": [
    "## (Extra Credit) Problem 2\n",
    "\n",
    "Consider a control variate for the problem above. The large pool model assumes that the portfolio is a large homogeneous pool, using the average default rate: $\\bar p = \\frac{1}{n}\\sum_i p_i$. Then the portfolio loss conditioned on market factor $z$ under the large pool model is a determinsitic scalar:\n",
    "\n",
    "$$ l(z) = (1-r)\\Phi\\left(\\frac{\\Phi^{-1}(\\bar p) - \\sqrt \\rho z}{\\sqrt{1-\\rho}}\\right)$$\n",
    "\n",
    "where $r$ is the constant recovery of all names. $\\Phi()$ is the normal CDF function; $\\Phi^{-1}()$ is its inverse. The tranche PVs can then be computed from the $l(z)$.\n",
    "\n",
    "Please investigate if the large pool model can be used as an effective control variate. Does it work better for some tranches?\n",
    "\n",
    "Hint: to answer this question, you only need to compute the correlation between the actual and control variates. "
   ]
  }
 ],
 "metadata": {
  "kernelspec": {
   "display_name": "Python 2",
   "language": "python",
   "name": "python2"
  },
  "language_info": {
   "codemirror_mode": {
    "name": "ipython",
    "version": 2
   },
   "file_extension": ".py",
   "mimetype": "text/x-python",
   "name": "python",
   "nbconvert_exporter": "python",
   "pygments_lexer": "ipython2",
   "version": "2.7.11"
  }
 },
 "nbformat": 4,
 "nbformat_minor": 0
}
